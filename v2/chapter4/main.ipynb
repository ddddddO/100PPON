{
 "cells": [
  {
   "cell_type": "code",
   "execution_count": 3,
   "metadata": {
    "collapsed": false
   },
   "outputs": [
    {
     "name": "stdout",
     "output_type": "stream",
     "text": [
      "36. 頻度上位10語\n",
      "----------------------------------------------------------------------------------------------------\n"
     ]
    },
    {
     "data": {
      "image/png": "[encoded data removed]",
      "text/plain": [
       "<Figure size 432x288 with 1 Axes>"
      ]
     },
     "metadata": {
      "needs_background": "light"
     },
     "output_type": "display_data"
    }
   ],
   "source": [
    "%matplotlib inline\n",
    "from morpheme.morpheme import Analyzer\n",
    "import matplotlib.pyplot as plt\n",
    "\n",
    "if __name__=='__main__':\n",
    "    RAW_TXT_PATH = './neko.txt'\n",
    "    MECAB_PARSED_TXT_PATH = './neko.txt.mecab'\n",
    "\n",
    "    neko = Analyzer(RAW_TXT_PATH, MECAB_PARSED_TXT_PATH)\n",
    "    sentences = neko.get_sentences()\n",
    "\n",
    "    print('36. 頻度上位10語')\n",
    "    tmp = neko.get_frequency_of_appearance(10)\n",
    "    x = range(0, len(tmp))\n",
    "    height = [tp[1] for tp in tmp]\n",
    "    label  = [tp[0] for tp in tmp]\n",
    "    plt.bar(x, height, tick_label = label)\n",
    "    print('-' * 100)"
   ]
  },
  {
   "cell_type": "code",
   "execution_count": 1,
   "metadata": {
    "collapsed": false
   },
   "outputs": [
    {
     "name": "stdout",
     "output_type": "stream",
     "text": [
      "FFFs\n"
     ]
    }
   ],
   "source": []
  },
  {
   "cell_type": "code",
   "execution_count": null,
   "metadata": {
    "collapsed": true
   },
   "outputs": [],
   "source": []
  }
 ],
 "metadata": {
  "kernelspec": {
   "display_name": "Python 3",
   "language": "python",
   "name": "python3"
  },
  "language_info": {
   "codemirror_mode": {
    "name": "ipython",
    "version": 3
   },
   "file_extension": ".py",
   "mimetype": "text/x-python",
   "name": "python",
   "nbconvert_exporter": "python",
   "pygments_lexer": "ipython3",
   "version": "3.7.2"
  }
 },
 "nbformat": 4,
 "nbformat_minor": 2
}
